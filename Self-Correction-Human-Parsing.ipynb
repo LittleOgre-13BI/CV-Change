{
 "nbformat": 4,
 "nbformat_minor": 0,
 "metadata": {
  "colab": {
   "name": "Copy of Self-Correction-Human-Parsing.ipynb",
   "provenance": [
    {
     "file_id": "1JOwOPaChoc9GzyBi5FUEYTSaP2qxJl10",
     "timestamp": 1653596490390
    }
   ]
  },
  "kernelspec": {
   "name": "python3",
   "display_name": "Python 3"
  },
  "accelerator": "GPU"
 },
 "cells": [
  {
   "cell_type": "code",
   "metadata": {
    "id": "P-SD6AWyad5K",
    "colab": {
     "base_uri": "https://localhost:8080/"
    },
    "executionInfo": {
     "status": "ok",
     "timestamp": 1653807783972,
     "user_tz": -480,
     "elapsed": 2746,
     "user": {
      "displayName": "Brus null",
      "userId": "11621207153064992541"
     }
    },
    "outputId": "e081f322-6d67-434b-c8ca-ccd7d4048cc8"
   },
   "source": [
    "!pip install ninja"
   ],
   "execution_count": 1,
   "outputs": [
    {
     "output_type": "stream",
     "name": "stdout",
     "text": [
      "Looking in indexes: https://pypi.org/simple, https://us-python.pkg.dev/colab-wheels/public/simple/\n",
      "Collecting ninja\n",
      "  Downloading ninja-1.10.2.3-py2.py3-none-manylinux_2_5_x86_64.manylinux1_x86_64.whl (108 kB)\n",
      "\u001B[K     |████████████████████████████████| 108 kB 38.6 MB/s \n",
      "\u001B[?25hInstalling collected packages: ninja\n",
      "Successfully installed ninja-1.10.2.3\n"
     ]
    }
   ]
  },
  {
   "cell_type": "code",
   "metadata": {
    "id": "pV22tdU4U1vN",
    "colab": {
     "base_uri": "https://localhost:8080/"
    },
    "executionInfo": {
     "status": "ok",
     "timestamp": 1653807799394,
     "user_tz": -480,
     "elapsed": 4777,
     "user": {
      "displayName": "Brus null",
      "userId": "11621207153064992541"
     }
    },
    "outputId": "f6bfe4ca-a046-47c4-dba8-16ff50353f58"
   },
   "source": [
    "!git clone https://github.com/PeikeLi/Self-Correction-Human-Parsing\n",
    "%cd Self-Correction-Human-Parsing\n",
    "!mkdir checkpoints\n",
    "!mkdir inputs\n",
    "!mkdir outputs\n",
    "!mkdir outputs_lip"
   ],
   "execution_count": 2,
   "outputs": [
    {
     "output_type": "stream",
     "name": "stdout",
     "text": [
      "Cloning into 'Self-Correction-Human-Parsing'...\n",
      "remote: Enumerating objects: 719, done.\u001B[K\n",
      "remote: Total 719 (delta 0), reused 0 (delta 0), pack-reused 719\u001B[K\n",
      "Receiving objects: 100% (719/719), 3.80 MiB | 2.81 MiB/s, done.\n",
      "Resolving deltas: 100% (141/141), done.\n",
      "/content/Self-Correction-Human-Parsing\n"
     ]
    }
   ]
  },
  {
   "cell_type": "code",
   "metadata": {
    "id": "qB3uv4ksWjry",
    "colab": {
     "base_uri": "https://localhost:8080/",
     "height": 177
    },
    "executionInfo": {
     "status": "ok",
     "timestamp": 1653807815873,
     "user_tz": -480,
     "elapsed": 9776,
     "user": {
      "displayName": "Brus null",
      "userId": "11621207153064992541"
     }
    },
    "outputId": "01d2d7c9-3ec0-49e3-ad27-0023c30089a4"
   },
   "source": [
    "import gdown\n",
    "\n",
    "url = 'https://drive.google.com/uc?id=1k4dllHpu0bdx38J7H28rVVLpU-kOHmnH'\n",
    "output = 'checkpoints/lip.pth'\n",
    "gdown.download(url, output, quiet=False)\n",
    "url = 'https://drive.google.com/uc?id=1ruJg4lqR_jgQPj-9K0PP-L2vJERYOxLP'\n",
    "output = 'checkpoints/atr.pth'\n",
    "gdown.download(url, output, quiet=False)"
   ],
   "execution_count": 3,
   "outputs": [
    {
     "output_type": "stream",
     "name": "stderr",
     "text": [
      "Downloading...\n",
      "From: https://drive.google.com/uc?id=1k4dllHpu0bdx38J7H28rVVLpU-kOHmnH\n",
      "To: /content/Self-Correction-Human-Parsing/checkpoints/lip.pth\n",
      "100%|██████████| 267M/267M [00:01<00:00, 142MB/s] \n",
      "Downloading...\n",
      "From: https://drive.google.com/uc?id=1ruJg4lqR_jgQPj-9K0PP-L2vJERYOxLP\n",
      "To: /content/Self-Correction-Human-Parsing/checkpoints/atr.pth\n",
      "100%|██████████| 267M/267M [00:04<00:00, 59.1MB/s]\n"
     ]
    },
    {
     "output_type": "execute_result",
     "data": {
      "text/plain": [
       "'checkpoints/atr.pth'"
      ],
      "application/vnd.google.colaboratory.intrinsic+json": {
       "type": "string"
      }
     },
     "metadata": {},
     "execution_count": 3
    }
   ]
  },
  {
   "cell_type": "markdown",
   "metadata": {
    "id": "m-5WopN6eIiL",
    "executionInfo": {
     "status": "ok",
     "timestamp": 1653807896730,
     "user_tz": -480,
     "elapsed": 920,
     "user": {
      "displayName": "Brus null",
      "userId": "11621207153064992541"
     }
    },
    "pycharm": {
     "name": "#%% md\n"
    }
   },
   "source": [
    "### 请先上传需要分割的图片至 *inputs* 中，再运行"
   ]
  },
  {
   "cell_type": "code",
   "metadata": {
    "id": "2Xq9jHwHXQRP",
    "colab": {
     "base_uri": "https://localhost:8080/"
    },
    "executionInfo": {
     "status": "ok",
     "timestamp": 1653807971242,
     "user_tz": -480,
     "elapsed": 65635,
     "user": {
      "displayName": "Brus null",
      "userId": "11621207153064992541"
     }
    },
    "outputId": "d84c3d15-370c-45b9-d9f8-ee3159df7e1f"
   },
   "source": [
    "!python3 simple_extractor.py --dataset 'lip' --model-restore 'checkpoints/lip.pth' --input-dir 'inputs' --output-dir 'outputs_lip'\n",
    "!python3 simple_extractor.py --dataset 'atr' --model-restore 'checkpoints/atr.pth' --input-dir 'inputs' --output-dir 'outputs'"
   ],
   "execution_count": 6,
   "outputs": [
    {
     "output_type": "stream",
     "name": "stdout",
     "text": [
      "Evaluating total class number 20 with ['Background', 'Hat', 'Hair', 'Glove', 'Sunglasses', 'Upper-clothes', 'Dress', 'Coat', 'Socks', 'Pants', 'Jumpsuits', 'Scarf', 'Skirt', 'Face', 'Left-arm', 'Right-arm', 'Left-leg', 'Right-leg', 'Left-shoe', 'Right-shoe']\n",
      "100% 1/1 [00:00<00:00,  1.68it/s]\n",
      "Evaluating total class number 18 with ['Background', 'Hat', 'Hair', 'Sunglasses', 'Upper-clothes', 'Skirt', 'Pants', 'Dress', 'Belt', 'Left-shoe', 'Right-shoe', 'Face', 'Left-leg', 'Right-leg', 'Left-arm', 'Right-arm', 'Bag', 'Scarf']\n",
      "100% 1/1 [00:00<00:00,  2.52it/s]\n"
     ]
    }
   ]
  },
  {
   "cell_type": "code",
   "source": [
    "!mkdir samples\n",
    "\n",
    "import os\n",
    "from PIL import Image\n",
    "\n",
    "outputs = os.listdir('./outputs')\n",
    "\n",
    "\n",
    "for f in outputs:\n",
    "  if f.startswith('.'):\n",
    "    continue\n",
    "  img0 = Image.open('./outputs/' + f)\t\t\t# ATR Image\n",
    "  sample = Image.open('sample.png')\t\t\t\t# Sample Image\n",
    "  width, height = img0.size\n",
    "\n",
    "  palette11 = sample.getpalette()\n",
    "\n",
    "  load0 = img0.load()\n",
    "\n",
    "  for i in range(width):\t\t\t\t\t\t# 遍历所有像素进行颜色转换\n",
    "    for n in range(height):\n",
    "      if(load0[i, n] == 4):\n",
    "        load0[i, n] = 5\n",
    "      elif(load0[i, n] == 5):\n",
    "        load0[i, n] = 12\n",
    "      elif(load0[i, n] == 11):\n",
    "        load0[i, n] = 13\n",
    "      elif(load0[i, n] == 12):\n",
    "        load0[i, n] = 16\n",
    "      elif(load0[i, n] == 13):\n",
    "        load0[i, n] = 17\n",
    "  img0.putpalette(palette11)\t\t\t\t\t# 将ATR Image的调色盘置为Sample Image的\n",
    "\n",
    "  # -------------- add neck by brown color -------------- #\n",
    "  small_face, big_face = [], []      # 储存着从不同照片中读取的脸部像素坐标\n",
    "  no_neck_img = Image.open('./outputs_lip/' + f)      \n",
    "  no_neck_load = no_neck_img.load()\n",
    "  for i in range(width):                          # width = 768\n",
    "    for n in range(height):                     # height = 1024\n",
    "      if no_neck_load[i, n] == 13:\t\t\t# pixel 13 means face\n",
    "        small_face.append([i, n])\t\t\t# 获取LIP输出图片中脸部的坐标\n",
    "      if load0[i, n] == 13:\n",
    "        big_face.append([i, n])\t\t\t\t# 获取ATR输出图片中脸部的坐标\n",
    "\n",
    "\n",
    "  for i in big_face:\t\t\t\t\t\t\t\t# 存在在ATR脸部中但不在LIP脸部\n",
    "    if i not in small_face:\t\t\t\t\t\t# 中的像素就是脖子Neck的像素\n",
    "          load0[i[0], i[1]] = 10\t\t\t\t\t# 变成棕色,即Sample中脖子的颜色\n",
    "          \n",
    "  img0.save('./samples/' + f)"
   ],
   "metadata": {
    "id": "lORfIktVqviG"
   },
   "execution_count": null,
   "outputs": []
  },
  {
   "cell_type": "markdown",
   "metadata": {
    "id": "VtZDKLL8jWLr",
    "pycharm": {
     "name": "#%% md\n"
    }
   },
   "source": [
    "### 可以从 *outputs* 文件夹下载生成的结果图"
   ]
  }
 ]
}