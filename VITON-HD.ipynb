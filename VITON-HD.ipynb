{
 "nbformat": 4,
 "nbformat_minor": 0,
 "metadata": {
  "colab": {
   "name": "CV-Change.ipynb",
   "provenance": [],
   "collapsed_sections": [],
   "authorship_tag": "ABX9TyOp0ZDBP9xuVZYYzeMIJwye"
  },
  "kernelspec": {
   "name": "python3",
   "display_name": "Python 3"
  },
  "language_info": {
   "name": "python"
  }
 },
 "cells": [
  {
   "cell_type": "code",
   "execution_count": 5,
   "metadata": {
    "colab": {
     "base_uri": "https://localhost:8080/"
    },
    "id": "ughP8A78MFD9",
    "executionInfo": {
     "status": "ok",
     "timestamp": 1653817562632,
     "user_tz": -480,
     "elapsed": 3805,
     "user": {
      "displayName": "LF Ogre",
      "userId": "15685555036407816552"
     }
    },
    "outputId": "75a816ee-372c-455e-e89d-6f2c922b9f37"
   },
   "outputs": [
    {
     "output_type": "stream",
     "name": "stdout",
     "text": [
      "/usr/local/lib/python3.7/dist-packages/gdown/parse_url.py:39: UserWarning: You specified a Google Drive link that is not the correct link to download a file. You might want to try `--fuzzy` option or the following url: https://drive.google.com/uc?id=None\n",
      "  url=\"https://drive.google.com/uc?id={}\".format(file_id)\n",
      "Downloading...\n",
      "From: https://drive.google.com/drive/folders/1HLNmDEDVNRT5UWYqzCXaJLfEGRMMCDK9?usp=sharing\n",
      "To: /content/VITON-HD.zip\n",
      "\r0.00B [00:00, ?B/s]\r866kB [00:00, 70.8MB/s]\n"
     ]
    }
   ],
   "source": [
    "!wget https://repo.anaconda.com/miniconda/Miniconda3-py38_4.12.0-Linux-x86_64.sh\n",
    "!chmod +x Miniconda3-py38_4.12.0-Linux-x86_64.sh\n",
    "%env PYTHONPATH=\n",
    "!./Miniconda3-py38_4.12.0-Linux-x86_64.sh -bfp /usr/local\n",
    "!conda -V\n",
    "!python -V\n",
    "import sys\n",
    "_ = (sys.path.append(\"/usr/local/lib/python3.8/site-packages\"))\n",
    "sys.path"
   ]
  },
  {
   "cell_type": "code",
   "source": [
    "!conda install -y pytorch torchvision cudatoolkit -c pytorch\n",
    "!python -m pip install opencv-python torchgeometry pillow\n",
    "%cd VITON-HD"
   ],
   "metadata": {
    "colab": {
     "base_uri": "https://localhost:8080/"
    },
    "id": "ppOYkAPEMirQ",
    "executionInfo": {
     "status": "ok",
     "timestamp": 1653817567879,
     "user_tz": -480,
     "elapsed": 3,
     "user": {
      "displayName": "LF Ogre",
      "userId": "15685555036407816552"
     }
    },
    "outputId": "02cc0857-f8c2-43e0-9b30-ff4c5c4725a5"
   },
   "execution_count": 6,
   "outputs": [
    {
     "output_type": "stream",
     "name": "stdout",
     "text": [
      "Archive:  VITON-HD.zip\n",
      "  End-of-central-directory signature not found.  Either this file is not\n",
      "  a zipfile, or it constitutes one disk of a multi-part archive.  In the\n",
      "  latter case the central directory and zipfile comment will be found on\n",
      "  the last disk(s) of this archive.\n",
      "unzip:  cannot find zipfile directory in one of VITON-HD.zip or\n",
      "        VITON-HD.zip.zip, and cannot find VITON-HD.zip.ZIP, period.\n"
     ]
    }
   ]
  },
  {
   "cell_type": "markdown",
   "source": [
    "### 请先将VITON-HD文件夹上传至你的工作目录，再运行\n",
    "你也可以选择克隆[VITON-HD](https://github.com/shadow2496/VITON-HD.git)的官方代码仓库至你的工作目录，然后将本项目中VITON-HD\\checkpoints和VITON-HD\\datasets下的文件上传至相应的目录下，便可运行"
   ],
   "metadata": {
    "collapsed": false,
    "pycharm": {
     "name": "#%% md\n"
    }
   }
  },
  {
   "cell_type": "code",
   "execution_count": null,
   "outputs": [],
   "source": [
    "%cd VITON-HD\n",
    "!mkdir results"
   ],
   "metadata": {
    "collapsed": false,
    "pycharm": {
     "name": "#%%\n"
    }
   }
  },
  {
   "cell_type": "code",
   "source": [
    "!CUDA_VISIBLE_DEVICES=0 python test.py --name Demo --init_variance=0.02"
   ],
   "metadata": {
    "id": "5E-eukDjOdKR"
   },
   "execution_count": null,
   "outputs": []
  }
 ]
}